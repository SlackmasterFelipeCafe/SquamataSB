{
 "cells": [
  {
   "cell_type": "markdown",
   "metadata": {},
   "source": [
    "## SquamataSB - Jupyter notebook for interacting with the ScienceBase API\n",
    "\n",
    "The ScienceBase python libraries can be found at:\n",
    "https://github.com/usgs/sciencebasepy\n",
    "\n",
    "Documentation on the sb_json format can be found at https://my.usgs.gov/confluence/display/sciencebase/ScienceBase+Item+Core+Model\n",
    "\n",
    "Properties Documentation of the json can be found at https://code.chs.usgs.gov/sciencebase/dev-docs/wikis/APIs/Catalog/Item-Hidden-Properties\n",
    "\n",
    "This module performs the following operations:\n",
    "- Log into ScienceBase\n",
    "- List attributes for existing ScienceBase item in JSON format\n",
    "- Create a new ScienceBase item\n",
    "- Create and delete items\n",
    "- Upload and delete files\n",
    "- Log out of ScienceBase\n",
    "\n",
    "## Future development plans for SquamataSB\n",
    "\n",
    "- Currently working on existing items, add requests here. \n",
    "\n",
    "### Instructions\n",
    "- This is a test of some ScienceBasePy (pysb) calls.  Follow guidlines as outlined below.\n",
    "\n",
    "### To execute a function/command select a cell and Hold-Shift + Press-Enter\n",
    "\n",
    "**The 'r' signifies a string literal. Use for paths.**\n",
    "\n",
    "v1.0 \n",
    "- Log into ScienceBase.\n",
    "- List attributes for existing ScienceBase item in JSON format\n",
    "\n",
    "v1.1 Exploring CRUD (Create-Read-Update-Delete)\n",
    "- Create a parent item\n",
    "- Create a child item\n",
    "- Edit ScienceBase item attributes\n",
    "\n"
   ]
  },
  {
   "cell_type": "code",
   "execution_count": 1,
   "metadata": {
    "scrolled": false
   },
   "outputs": [],
   "source": [
    "# Phil Brown (pbrown@usgs.gov) September 2019 Beta \n",
    "# Working Python 3 Notebook used to show examples of ScienceBasePy function calls"
   ]
  },
  {
   "cell_type": "code",
   "execution_count": 4,
   "metadata": {},
   "outputs": [
    {
     "name": "stdout",
     "output_type": "stream",
     "text": [
      "Jupyter is working.\n"
     ]
    }
   ],
   "source": [
    "# Test Cell\n",
    "print (\"Jupyter is working.\") #To run this cell, hold down Shift and press Enter."
   ]
  },
  {
   "cell_type": "markdown",
   "metadata": {},
   "source": [
    "## Need to install ScienceBasePy and associated packages to your python install.\n",
    "- Uncomment the code below to install python modules requred for this Jupyter Notebook."
   ]
  },
  {
   "cell_type": "code",
   "execution_count": 5,
   "metadata": {
    "scrolled": true
   },
   "outputs": [
    {
     "name": "stdout",
     "output_type": "stream",
     "text": [
      "Processing c:\\sbpy\\sciencebasepy-master\n",
      "Building wheels for collected packages: sciencebasepy\n",
      "  Running setup.py bdist_wheel for sciencebasepy: started\n",
      "  Running setup.py bdist_wheel for sciencebasepy: finished with status 'done'\n",
      "  Stored in directory: C:\\Users\\pbrown\\AppData\\Local\\pip\\Cache\\wheels\\6a\\e5\\49\\eb3d0b5a3ba71df71d57ea31c37ddc4232b29c60324d0a1d76\n",
      "Successfully built sciencebasepy\n",
      "Installing collected packages: sciencebasepy\n",
      "Successfully installed sciencebasepy-1.6.4\n"
     ]
    }
   ],
   "source": [
    "# Install a pip package in the current Jupyter kernel\n",
    "# The below code will install sciencebasepy from a location on your hard drive\n",
    "# https://github.com/usgs/sciencebasepy\n",
    "import os, ssl\n",
    "import sys\n",
    "\n",
    "# Uncomment the below to install sciencebasepy from a directory or unline - !!! be sure to change the path appropriately !!!\n",
    "#if (not os.environ.get('PYTHONHTTPSVERIFY', '') and\n",
    "    #getattr(ssl, '_create_unverified_context', None)): \n",
    "    #ssl._create_default_https_context = ssl._create_unverified_context\n",
    "    #!{sys.executable} -m pip install C:\\SBpy\\sciencebasepy-master \n"
   ]
  },
  {
   "cell_type": "code",
   "execution_count": 7,
   "metadata": {},
   "outputs": [
    {
     "name": "stdout",
     "output_type": "stream",
     "text": [
      "Processing c:\\msgpack\\msgpack-python-master\n",
      "Building wheels for collected packages: msgpack\n",
      "  Running setup.py bdist_wheel for msgpack: started\n",
      "  Running setup.py bdist_wheel for msgpack: finished with status 'done'\n",
      "  Stored in directory: C:\\Users\\pbrown\\AppData\\Local\\pip\\Cache\\wheels\\c8\\84\\ed\\9c996789900fc68156b0183be9155692c023770863d466cce7\n",
      "Successfully built msgpack\n",
      "Installing collected packages: msgpack\n",
      "Successfully installed msgpack-0.6.2\n"
     ]
    }
   ],
   "source": [
    "# Install a pip package in the current Jupyter kernel\n",
    "# The below code will install msgpack as required by sciencebasepy from a location on your hard drive\n",
    "# https://github.com/msgpack/msgpack-python\n",
    "import os, ssl\n",
    "import sys\n",
    "\n",
    "# Uncomment the below to install sciencebasepy from a directory or unline - !!!be sure to change the path appropriately!!!\n",
    "#if (not os.environ.get('PYTHONHTTPSVERIFY', '') and\n",
    "    #getattr(ssl, '_create_unverified_context', None)): \n",
    "    #ssl._create_default_https_context = ssl._create_unverified_context\n",
    "    #!{sys.executable} -m pip install C:\\msgpack\\msgpack-python-master  "
   ]
  },
  {
   "cell_type": "code",
   "execution_count": 8,
   "metadata": {
    "scrolled": false
   },
   "outputs": [
    {
     "name": "stderr",
     "output_type": "stream",
     "text": [
      "C:\\Users\\pbrown\\AppData\\Local\\Continuum\\anaconda_3\\lib\\site-packages\\IPython\\html.py:14: ShimWarning: The `IPython.html` package has been deprecated since IPython 4.0. You should import from `notebook` instead. `IPython.html.widgets` has moved to `ipywidgets`.\n",
      "  \"`IPython.html.widgets` has moved to `ipywidgets`.\", ShimWarning)\n"
     ]
    }
   ],
   "source": [
    "# Load required Libraries\n",
    "import sys\n",
    "import os\n",
    "import zipfile\n",
    "import csv\n",
    "import sciencebasepy as pysb\n",
    "import requests\n",
    "import shutil\n",
    "from shutil import copyfile\n",
    "import zipfile\n",
    "import datetime\n",
    "import glob\n",
    "from lxml import etree\n",
    "import json\n",
    "import pickle\n",
    "import shutil\n",
    "import fileinput\n",
    "import json\n",
    "import pandas as pd\n",
    "import numpy as np\n",
    "from IPython.core.display import display\n",
    "from IPython.core.display import HTML\n",
    "from lxml import etree\n",
    "##from pymdwizard.core.xml_utils import XMLRecord\n",
    "##from pymdwizard.core.xml_utils import XMLNode\n",
    "import re\n",
    "from ipywidgets import *\n",
    "from IPython.display import display\n",
    "from IPython.html.widgets import widgets\n",
    "import datetime\n",
    "import dateutil.parser\n",
    "import time\n",
    "from IPython.display import Javascript"
   ]
  },
  {
   "cell_type": "markdown",
   "metadata": {},
   "source": [
    "# Set Directory Paths\n",
    "## Please set directory paths below\n",
    "### Directory paths include\n",
    "- Parent Path: This is the path to information that will be loaded to the ScienceBase data release landing page.\n",
    "- Child Path: The path to the children that needed to be uploaded to the parent page.\n",
    "- ScienceBase ID: catalog number used in the URL by ScienceBase to identify the parent page of the data release."
   ]
  },
  {
   "cell_type": "code",
   "execution_count": 6,
   "metadata": {
    "scrolled": false
   },
   "outputs": [],
   "source": [
    "#Set Data Paths - perhaps we'll get a user form to do this some day?\n",
    "sciencebaseParentPath = r\"C:\\CurrentWork\\DataReleases\\Silverton\\Data\" #The 'r' signifies a string literal. Use for paths.\n",
    "sciencebaseChildPath = r\"C:\\CurrentWork\\DataReleases\\Silverton\"\n",
    "sciencebaseID = \"USA-Colorado-Silverton_Caldera-2018-Template-v1-11.xml\""
   ]
  },
  {
   "cell_type": "code",
   "execution_count": 37,
   "metadata": {
    "scrolled": false
   },
   "outputs": [
    {
     "name": "stdout",
     "output_type": "stream",
     "text": [
      "The ScienceBase Data Path is: \"C:\\CurrentWork\\DataReleases\\Silverton\\Data\"\n"
     ]
    }
   ],
   "source": [
    "#Check Paths for the fun of it\n",
    "print ('The ScienceBase Data Path is: ' + '\"' + sciencebaseParentPath + '\"')\n",
    "# sciencebaseDataPath + \"\\\\\" + mtMetaDataTemplateName"
   ]
  },
  {
   "cell_type": "markdown",
   "metadata": {},
   "source": [
    "## Now, let's log into ScienceBase. \n"
   ]
  },
  {
   "cell_type": "code",
   "execution_count": 38,
   "metadata": {
    "scrolled": false
   },
   "outputs": [],
   "source": [
    "#Initialize ScienceBase session - this is the manual way - use the cell below instead\n",
    "\n",
    "#Comment out below to login to ScienceBase manually\n",
    "\n",
    "#username = 'Add User Name Here'\n",
    "#password = 'Add Password Here'\n",
    "#sb = pysb.SbSession(env=None).login(username, password)\n"
   ]
  },
  {
   "cell_type": "code",
   "execution_count": 10,
   "metadata": {
    "scrolled": false
   },
   "outputs": [
    {
     "name": "stdout",
     "output_type": "stream",
     "text": [
      "Username:  pbrown@usgs.gov\n",
      "········\n"
     ]
    },
    {
     "data": {
      "text/plain": [
       "{'displayName': 'Philip J Brown II',\n",
       " 'email': 'pbrown@usgs.gov',\n",
       " 'fullDisplayName': 'Philip J Brown II [pbrown@usgs.gov]',\n",
       " 'isLoggedIn': True,\n",
       " 'jossoSessionId': '8A09823D9C795E32FEF394E8DE92E201',\n",
       " 'username': 'pbrown@usgs.gov'}"
      ]
     },
     "execution_count": 10,
     "metadata": {},
     "output_type": "execute_result"
    }
   ],
   "source": [
    "\n",
    "sb = pysb.SbSession()\n",
    "\n",
    "username = input(\"Username:  \")\n",
    "sb.loginc(str(username))\n",
    "\n",
    "#Check to see if login is successful\n",
    "sb.is_logged_in()\n",
    "\n",
    "#Get the ScienceBase Login session info\n",
    "sb.get_session_info()\n",
    "\n",
    "\n"
   ]
  },
  {
   "cell_type": "code",
   "execution_count": 11,
   "metadata": {
    "scrolled": true
   },
   "outputs": [
    {
     "data": {
      "text/plain": [
       "{'displayName': 'Philip J Brown II',\n",
       " 'email': 'pbrown@usgs.gov',\n",
       " 'fullDisplayName': 'Philip J Brown II [pbrown@usgs.gov]',\n",
       " 'isLoggedIn': True,\n",
       " 'jossoSessionId': '8A09823D9C795E32FEF394E8DE92E201',\n",
       " 'username': 'pbrown@usgs.gov'}"
      ]
     },
     "execution_count": 11,
     "metadata": {},
     "output_type": "execute_result"
    }
   ],
   "source": [
    "#Now we can start testing ScienceBasePy functions\n",
    "\n",
    "#Check to see if login is successful\n",
    "sb.is_logged_in()\n",
    "\n",
    "#Get the ScienceBase Login session info\n",
    "sb.get_session_info()"
   ]
  },
  {
   "cell_type": "markdown",
   "metadata": {},
   "source": [
    "## Get a public or private items and list attributes"
   ]
  },
  {
   "cell_type": "code",
   "execution_count": 12,
   "metadata": {},
   "outputs": [
    {
     "name": "stdout",
     "output_type": "stream",
     "text": [
      "Public Item: \t{'link': {'rel': 'self', 'url': 'https://www.sciencebase.gov/catalog/item/5ad0e39de4b0e2c2dd1eb0dd'}, 'relatedItems': {'link': {'url': 'https://www.sciencebase.gov/catalog/itemLinks?itemId=5ad0e39de4b0e2c2dd1eb0dd', 'rel': 'related'}}, 'id': '5ad0e39de4b0e2c2dd1eb0dd', 'title': 'pbrown@usgs.gov', 'provenance': {'dateCreated': '2018-04-13T17:06:37Z', 'lastUpdated': '2019-05-22T21:45:42Z', 'lastUpdatedBy': 'pbrown@usgs.gov', 'createdBy': 'pbrown@usgs.gov'}, 'hasChildren': True, 'parentId': '4f4e4772e4b07f02db47e231', 'contacts': [{'name': 'Philip J Brown II', 'oldPartyId': 1233, 'type': 'Author', 'contactType': 'person', 'email': 'pbrown@usgs.gov', 'active': True, 'primaryLocation': {'name': 'Philip J Brown II/GD/USGS/DOI - Primary Location', 'building': 'DFC Bldg 20', 'buildingCode': 'KAC', 'officePhone': '303-236-1310', 'faxPhone': '303-236-1425', 'streetAddress': {'line1': 'W 6th Ave Kipling St', 'city': 'Lakewood', 'state': 'CO', 'zip': '80225'}, 'mailAddress': {'line1': 'Box 25046, Denver Federal Center, Mail Stop 964', 'mailStopCode': '964', 'city': 'Denver', 'state': 'CO', 'zip': '80225-0046', 'country': 'USA'}}, 'orcId': '0000-0002-2415-7462'}], 'systemTypes': ['Folder'], 'permissions': {'read': {'acl': ['USER:pbrown@usgs.gov'], 'inherited': False}, 'write': {'acl': ['USER:pbrown@usgs.gov'], 'inherited': False}}, 'distributionLinks': [{'uri': 'https://www.sciencebase.gov/catalogMaps/mapping/ows/5ad0e39de4b0e2c2dd1eb0dd?mode=download&request=kml&service=wms&layers=childrenBoundingBox,children', 'title': 'KML Service', 'type': 'kml', 'typeLabel': '', 'rel': 'alternate', 'name': '', 'files': ''}, {'uri': 'https://www.sciencebase.gov/catalogMaps/mapping/ows/5ad0e39de4b0e2c2dd1eb0dd?service=wms&request=getcapabilities&version=1.3.0', 'title': 'ScienceBase WMS Service', 'type': 'serviceCapabilitiesUrl', 'typeLabel': '', 'rel': 'alternate', 'name': '', 'files': ''}, {'uri': 'https://www.sciencebase.gov/catalog/items?parentId=5ad0e39de4b0e2c2dd1eb0dd&format=json', 'title': 'ScienceBase Collection JSON', 'type': 'repo', 'typeLabel': '', 'rel': 'alternate', 'name': '', 'files': ''}, {'uri': 'https://www.sciencebase.gov/catalog/items?parentId=5ad0e39de4b0e2c2dd1eb0dd&format=atom', 'title': 'ScienceBase Collection ATOM', 'type': 'repo', 'typeLabel': '', 'rel': 'alternate', 'name': '', 'files': ''}, {'uri': 'https://www.sciencebase.gov/catalog/items?parentId=5ad0e39de4b0e2c2dd1eb0dd&format=csv', 'title': 'ScienceBase Collection CSV', 'type': 'repo', 'typeLabel': '', 'rel': 'alternate', 'name': '', 'files': ''}, {'uri': 'https://www.sciencebase.gov/catalog/oai-pmh?verb=ListRecords&metadataPrefix=fgdc-orig&set=5ad0e39de4b0e2c2dd1eb0dd', 'title': 'ScienceBase OAI PMH Service', 'type': 'oai-pmh', 'typeLabel': '', 'rel': 'alternate', 'name': '', 'files': ''}, {'uri': 'https://www.sciencebase.gov/catalog/item/5ad0e39de4b0e2c2dd1eb0dd/csw?service=CSW&version=2.0.2&request=GetRecords', 'title': 'ScienceBase CSW Service', 'type': 'csw', 'typeLabel': '', 'rel': 'alternate', 'name': '', 'files': ''}], 'locked': False}\n"
     ]
    }
   ],
   "source": [
    "# Get a public item.  No need to log in.\n",
    "\n",
    "# Villa Grove:5ce5c305e4b0bc180232eb80\n",
    "# Tooele: 59de8dbee4b05fe04ccd3ada\n",
    "\n",
    "item_json = sb.get_item('5ad0e39de4b0e2c2dd1eb0dd')\n",
    "print (\"Public Item: \\t\" + str(item_json))\n"
   ]
  },
  {
   "cell_type": "code",
   "execution_count": 18,
   "metadata": {},
   "outputs": [
    {
     "name": "stdout",
     "output_type": "stream",
     "text": [
      "Public Item: \t{'link': {'rel': 'self', 'url': 'https://www.sciencebase.gov/catalog/item/5ce5c305e4b0bc180232eb80'}, 'relatedItems': {'link': {'url': 'https://www.sciencebase.gov/catalog/itemLinks?itemId=5ce5c305e4b0bc180232eb80', 'rel': 'related'}}, 'id': '5ce5c305e4b0bc180232eb80', 'identifiers': [{'type': 'DOI', 'scheme': 'https://www.sciencebase.gov/vocab/category/item/identifier', 'key': 'doi:10.5066/P9DXYPXH'}], 'title': 'High Resolution Aeromagnetic Survey, Villa Grove, Colorado, USA, 2011', 'summary': 'This data release includes data collected from the Villa Grove helicopter magnetic survey in northern San Luis Valley and Poncha Pass region in south-central Colorado, USA. The survey area extends over the northern part of Great Sand Dunes National Park, Poncha Pass and vicinity, and into the southern end of the Upper Arkansas Valley. It includes the communities of Crestone, Villa Grove, Saguache, and Salida. Several U.S. Geological Survey programs (including the National Cooperative Geologic Mapping Program, Mineral Resources Program, and Geothermal Program), as well as the Colorado Geological Survey, funded the survey. The data are part of studies to help refine our knowledge in this area about the nature of aquifers, the potential [...]', 'body': 'This data release includes data collected from the Villa Grove helicopter magnetic survey in northern San Luis Valley and Poncha Pass region in south-central Colorado, USA. The survey area extends over the northern part of Great Sand Dunes National Park, Poncha Pass and vicinity, and into the southern end of the Upper Arkansas Valley. It includes the communities of Crestone, Villa Grove, Saguache, and Salida. Several U.S. Geological Survey programs (including the National Cooperative Geologic Mapping Program, Mineral Resources Program, and Geothermal Program), as well as the Colorado Geological Survey, funded the survey. The data are part of studies to help refine our knowledge in this area about the nature of aquifers, the potential for geothermal energy resources, the likelihood of seismic hazards, and the geology of the northern Rio Grande rift.', 'citation': 'Brown, P.J., and Grauch, V.J.S., 2019, High Resolution Aeromagnetic Survey, Villa Grove, Colorado, USA, 2011: U.S. Geological Survey data release, https://doi.org/10.5066/P9DXYPXH.', 'purpose': 'The purpose of this data release is to provide the data to the public. Detailed aeromagnetic surveys are useful for mapping faults and ancient lava flows that are concealed beneath valley fill. The Villa Grove survey data are intended as a tool to help address a variety of scientific questions about the subsurface of this area, such as: Where are ancient faults buried? Are they still active? Do the faults act as a plumbing system for groundwater or geothermal hot springs? Are lava flows that erupted millions of years ago in the nearby mountains also present underneath the valley fill?', 'provenance': {'dateCreated': '2019-05-22T21:45:41Z', 'lastUpdated': '2019-08-21T16:06:20Z', 'lastUpdatedBy': 'aliford@usgs.gov', 'createdBy': 'pbrown@usgs.gov'}, 'maintenanceUpdateFrequency': 'None Planned', 'hasChildren': False, 'parentId': '5474ec49e4b04d7459a7eab2', 'contacts': [{'name': 'U.S. Geological Survey, Crustal Geophysics and Geochemistry Science Center', 'type': 'Point of Contact', 'contactType': 'organization', 'organizationsPerson': 'Grauch, V. J.', 'email': 'tien@usgs.gov', 'jobTitle': 'Research Geophysicist', 'organization': {}, 'primaryLocation': {'officePhone': '303-236-1425', 'streetAddress': {}, 'mailAddress': {'line1': 'POB 25046 DFC, MS 964', 'city': 'Denver', 'state': 'Colorado', 'zip': '80225', 'country': 'USA'}}}, {'name': 'V. J. S Grauch', 'oldPartyId': 3867, 'type': 'Point of Contact', 'contactType': 'person', 'email': 'tien@usgs.gov', 'active': True, 'jobTitle': 'Research Geophysicist', 'firstName': 'V. J.', 'middleName': 'S', 'lastName': 'Grauch', 'organization': {'displayText': 'Central Mineral Resources Team'}, 'primaryLocation': {'name': 'V. J. S Grauch/GD/USGS/DOI - Primary Location', 'building': 'DFC Bldg 20', 'buildingCode': 'KAC', 'officePhone': '3032361393', 'faxPhone': '3032361425', 'streetAddress': {'line1': 'W 6th Ave Kipling St', 'city': 'Lakewood', 'state': 'CO', 'zip': '80225'}, 'mailAddress': {'line1': 'Box 25046, Denver Federal Center, Mail Stop 964', 'mailStopCode': '964', 'city': 'Denver', 'state': 'CO', 'zip': '80225-0046', 'country': 'USA'}}, 'orcId': '0000-0002-0761-3489'}, {'name': 'Philip J Brown II', 'oldPartyId': 1233, 'type': 'Originator', 'contactType': 'person', 'email': 'pbrown@usgs.gov', 'active': True, 'jobTitle': 'Geophysicist', 'firstName': 'Philip', 'middleName': 'J', 'lastName': 'Brown II', 'organization': {'displayText': 'Central Mineral Resources Team'}, 'primaryLocation': {'name': 'Philip J Brown II/GD/USGS/DOI - Primary Location', 'building': 'DFC Bldg 20', 'buildingCode': 'KAC', 'officePhone': '3032361310', 'faxPhone': '3032361425', 'streetAddress': {'line1': 'W 6th Ave Kipling St', 'city': 'Lakewood', 'state': 'CO', 'zip': '80225'}, 'mailAddress': {'line1': 'Box 25046, Denver Federal Center, Mail Stop 964', 'mailStopCode': '964', 'city': 'Denver', 'state': 'CO', 'zip': '80225-0046', 'country': 'USA'}}, 'orcId': '0000-0002-2415-7462'}, {'name': 'V. J. S Grauch', 'oldPartyId': 3867, 'type': 'Originator', 'contactType': 'person', 'email': 'tien@usgs.gov', 'active': True, 'jobTitle': 'Research Geophysicist', 'firstName': 'V. J.', 'middleName': 'S', 'lastName': 'Grauch', 'organization': {'displayText': 'Central Mineral Resources Team'}, 'primaryLocation': {'name': 'V. J. S Grauch/GD/USGS/DOI - Primary Location', 'building': 'DFC Bldg 20', 'buildingCode': 'KAC', 'officePhone': '3032361393', 'faxPhone': '3032361425', 'streetAddress': {'line1': 'W 6th Ave Kipling St', 'city': 'Lakewood', 'state': 'CO', 'zip': '80225'}, 'mailAddress': {'line1': 'Box 25046, Denver Federal Center, Mail Stop 964', 'mailStopCode': '964', 'city': 'Denver', 'state': 'CO', 'zip': '80225-0046', 'country': 'USA'}}, 'orcId': '0000-0002-0761-3489'}, {'name': 'Philip J Brown II', 'oldPartyId': 1233, 'type': 'Metadata Contact', 'contactType': 'person', 'email': 'pbrown@usgs.gov', 'active': True, 'jobTitle': 'Geophysicist', 'firstName': 'Philip', 'middleName': 'J', 'lastName': 'Brown II', 'organization': {'displayText': 'Central Mineral Resources Team'}, 'primaryLocation': {'name': 'Philip J Brown II/GD/USGS/DOI - Primary Location', 'building': 'DFC Bldg 20', 'buildingCode': 'KAC', 'officePhone': '3032361310', 'faxPhone': '3032361425', 'streetAddress': {'line1': 'W 6th Ave Kipling St', 'city': 'Lakewood', 'state': 'CO', 'zip': '80225'}, 'mailAddress': {'line1': 'Box 25046, Denver Federal Center, Mail Stop 964', 'mailStopCode': '964', 'city': 'Denver', 'state': 'CO', 'zip': '80225-0046', 'country': 'USA'}}, 'orcId': '0000-0002-2415-7462'}, {'name': 'U.S. Geological Survey', 'oldPartyId': 18139, 'type': 'Metadata Contact', 'contactType': 'organization', 'onlineResource': 'http://www.usgs.gov/', 'active': True, 'aliases': ['{\"name\":\"Geological Survey (U.S.)\"}', '{\"name\":\"USGS\"}', '{\"name\":\"U.S. GEOLOGICAL SURVEY\"}'], 'fbmsCodes': ['GG00000000'], 'logoUrl': 'http://my.usgs.gov/static-cache/images/dataOwner/v1/logosMed/USGSLogo.gif', 'smallLogoUrl': 'http://my.usgs.gov/static-cache/images/dataOwner/v1/logosSmall/USGSLogo.gif', 'organization': {}, 'primaryLocation': {'name': 'U.S. Geological Survey - Location', 'streetAddress': {}, 'mailAddress': {}}}, {'name': 'U.S. Geological Survey', 'oldPartyId': 18139, 'type': 'Publisher', 'contactType': 'organization', 'onlineResource': 'http://www.usgs.gov/', 'active': True, 'aliases': ['{\"name\":\"Geological Survey (U.S.)\"}', '{\"name\":\"USGS\"}', '{\"name\":\"U.S. GEOLOGICAL SURVEY\"}'], 'fbmsCodes': ['GG00000000'], 'logoUrl': 'http://my.usgs.gov/static-cache/images/dataOwner/v1/logosMed/USGSLogo.gif', 'smallLogoUrl': 'http://my.usgs.gov/static-cache/images/dataOwner/v1/logosSmall/USGSLogo.gif', 'organization': {}, 'primaryLocation': {'name': 'U.S. Geological Survey - Location', 'streetAddress': {}, 'mailAddress': {}}}, {'name': 'U.S. Geological Survey - ScienceBase', 'oldPartyId': 70157, 'type': 'Distributor', 'contactType': 'organization', 'onlineResource': 'https://www.sciencebase.gov', 'email': 'sciencebase@usgs.gov', 'organization': {}, 'primaryLocation': {'name': 'U.S. Geological Survey - ScienceBase - Location', 'officePhone': '18882758747', 'streetAddress': {}, 'mailAddress': {'line1': 'Denver Federal Center', 'line2': 'Building 810', 'mailStopCode': '302', 'city': 'Denver', 'state': 'CO', 'zip': '80225', 'country': 'United States'}}}, {'name': 'Geology, Geophysics, and Geochemistry Science Center', 'oldPartyId': 17386, 'type': 'SDC Data Owner', 'contactType': 'organization', 'active': True, 'organization': {}, 'primaryLocation': {'name': 'Denver Federal Center - DFC Bldg 20 [KAC]', 'streetAddress': {}, 'mailAddress': {}}}, {'name': 'Energy and Minerals', 'type': 'USGS Mission Area', 'contactType': 'organization', 'organization': {'directoryId': '64232', 'displayText': 'Energy and Minerals'}, 'primaryLocation': {'streetAddress': {}, 'mailAddress': {}}}], 'webLinks': [{'type': 'publicationReferenceSource', 'typeLabel': 'Publication that references this resource', 'uri': 'http://dx.doi.org/10.1155/2013/804216', 'title': 'Identifying Buried Segments of Active Faults in the Northern Rio Grande Rift Using Aeromagnetic, LiDAR, and Gravity Data, South-Central Colorado, USA', 'hidden': False}], 'browseCategories': ['Data'], 'browseTypes': ['Shapefile', 'Downloadable', 'Map Service', 'OGC WMS Layer', 'OGC WFS Layer', 'Raster', 'GeoTIFF'], 'systemTypes': ['Data Release', 'Downloadable', 'Mappable'], 'tags': [{'type': 'Harvest Set', 'name': 'USGS Science Data Catalog (SDC)'}, {'type': 'Theme', 'scheme': 'USGS Thesaurus', 'name': 'geophysics'}, {'type': 'Theme', 'scheme': 'USGS Thesaurus', 'name': 'magnetic surveying'}, {'type': 'Theme', 'scheme': 'USGS Thesaurus', 'name': 'aeromagnetic surveying'}, {'type': 'Theme', 'scheme': 'USGS Thesaurus', 'name': 'magnetic field (earth)'}, {'type': 'Theme', 'scheme': 'USGS Thesaurus', 'name': 'geospatial datasets'}, {'type': 'Theme', 'scheme': 'ISO 19115 Topic Category', 'name': 'geoscientific information'}, {'type': 'Theme', 'scheme': 'none', 'name': 'aeromag'}, {'type': 'Theme', 'scheme': 'none', 'name': 'aeromagnetic'}, {'type': 'Theme', 'scheme': 'none', 'name': 'airborne magnetic survey'}, {'type': 'Theme', 'scheme': 'none', 'name': 'MRP'}, {'type': 'Theme', 'scheme': 'none', 'name': 'Minerals Resources Program'}, {'type': 'Theme', 'scheme': 'none', 'name': 'GGGSC'}, {'type': 'Theme', 'scheme': 'none', 'name': 'Geology, Geophysics, and Geochemistry Science Center'}, {'type': 'Place', 'scheme': 'USGS Geographic Names Information System (GNIS)', 'name': 'Colorado'}, {'type': 'Place', 'scheme': 'USGS Geographic Names Information System (GNIS)', 'name': 'City of Salida'}, {'type': 'Place', 'scheme': 'USGS Geographic Names Information System (GNIS)', 'name': 'San Luis Creek'}, {'type': 'Place', 'scheme': 'USGS Geographic Names Information System (GNIS)', 'name': 'Chaffee County'}, {'type': 'Place', 'scheme': 'USGS Geographic Names Information System (GNIS)', 'name': 'Saguache County'}, {'type': 'Place', 'scheme': 'USGS Geographic Names Information System (GNIS)', 'name': 'Fremont County'}, {'type': 'Place', 'scheme': 'USGS Geographic Names Information System (GNIS)', 'name': 'Crestone'}, {'type': 'Place', 'scheme': 'USGS Geographic Names Information System (GNIS)', 'name': 'Villa Grove'}, {'type': 'Place', 'scheme': 'USGS Geographic Names Information System (GNIS)', 'name': 'Saguache'}, {'type': 'Place', 'scheme': 'USGS Geographic Names Information System (GNIS)', 'name': 'San Luis Valley'}, {'type': 'Place', 'scheme': 'USGS Geographic Names Information System (GNIS)', 'name': 'Poncha Pass'}, {'type': 'Place', 'scheme': 'USGS Geographic Names Information System (GNIS)', 'name': 'Great Sand Dunes National Park'}, {'type': 'USGS Scientific Topic Keyword', 'name': 'Geophysics'}], 'dates': [{'type': 'Publication', 'dateString': '2019-08-20', 'label': 'Publication Date'}, {'type': 'End', 'dateString': '2011-11-26', 'label': ''}, {'type': 'Start', 'dateString': '2011-10-23', 'label': 'Start Date'}], 'spatial': {'boundingBox': {'minX': -106.22628, 'maxX': -105.564178, 'minY': 37.803234, 'maxY': 38.616119}}, 'facets': [{'boundingBox': {'minY': 37.79877995383154, 'minX': -106.22830151527796, 'maxY': 38.619204315906195, 'maxX': -105.56373981995291}, 'name': 'USA_VillaGrove_CO_2011_HighResolutionAeromagneticSurveyFootprint', 'files': [{'name': 'USA_VillaGrove_CO_2011_HighResolutionAeromagneticSurveyFootprint.dbf', 'title': '', 'contentType': 'application/unknown', 'contentEncoding': None, 'pathOnDisk': '__disk__0a/f8/86/0af886f8e4e1a0de349ba49d1c30b15a7f0f51b2', 'processed': False, 'processToken': None, 'imageWidth': None, 'imageHeight': None, 'size': 77, 'dateUploaded': '2019-07-10T22:07:34Z', 'uploadedBy': 'pbrown@usgs.gov', 'originalMetadata': False, 'useForPreview': False, 's3Object': None, 'checksum': None, 'url': 'https://www.sciencebase.gov/catalog/file/get/5ce5c305e4b0bc180232eb80?f=__disk__0a%2Ff8%2F86%2F0af886f8e4e1a0de349ba49d1c30b15a7f0f51b2', 'downloadUri': 'https://www.sciencebase.gov/catalog/file/get/5ce5c305e4b0bc180232eb80?f=__disk__0a%2Ff8%2F86%2F0af886f8e4e1a0de349ba49d1c30b15a7f0f51b2'}, {'name': 'USA_VillaGrove_CO_2011_HighResolutionAeromagneticSurveyFootprint.prj', 'title': '', 'contentType': 'text/plain', 'contentEncoding': None, 'pathOnDisk': '__disk__89/a7/bb/89a7bbfdc254864bd8ab21e4d970f7f61d5aecc9', 'processed': False, 'processToken': None, 'imageWidth': None, 'imageHeight': None, 'size': 395, 'dateUploaded': '2019-07-10T22:07:34Z', 'uploadedBy': 'pbrown@usgs.gov', 'originalMetadata': False, 'useForPreview': False, 's3Object': None, 'checksum': None, 'url': 'https://www.sciencebase.gov/catalog/file/get/5ce5c305e4b0bc180232eb80?f=__disk__89%2Fa7%2Fbb%2F89a7bbfdc254864bd8ab21e4d970f7f61d5aecc9', 'downloadUri': 'https://www.sciencebase.gov/catalog/file/get/5ce5c305e4b0bc180232eb80?f=__disk__89%2Fa7%2Fbb%2F89a7bbfdc254864bd8ab21e4d970f7f61d5aecc9', 'viewUri': 'https://www.sciencebase.gov/catalog/file/get/5ce5c305e4b0bc180232eb80?f=__disk__89%2Fa7%2Fbb%2F89a7bbfdc254864bd8ab21e4d970f7f61d5aecc9&allowOpen=true'}, {'name': 'USA_VillaGrove_CO_2011_HighResolutionAeromagneticSurveyFootprint.sbn', 'title': '', 'contentType': 'x-gis/x-shapefile', 'contentEncoding': None, 'pathOnDisk': '__disk__50/c6/a5/50c6a51e6486ed24cda5bffae03a6c2630c90491', 'processed': False, 'processToken': None, 'imageWidth': None, 'imageHeight': None, 'size': 132, 'dateUploaded': '2019-07-10T22:07:34Z', 'uploadedBy': 'pbrown@usgs.gov', 'originalMetadata': False, 'useForPreview': False, 's3Object': None, 'checksum': None, 'url': 'https://www.sciencebase.gov/catalog/file/get/5ce5c305e4b0bc180232eb80?f=__disk__50%2Fc6%2Fa5%2F50c6a51e6486ed24cda5bffae03a6c2630c90491', 'downloadUri': 'https://www.sciencebase.gov/catalog/file/get/5ce5c305e4b0bc180232eb80?f=__disk__50%2Fc6%2Fa5%2F50c6a51e6486ed24cda5bffae03a6c2630c90491'}, {'name': 'USA_VillaGrove_CO_2011_HighResolutionAeromagneticSurveyFootprint.sbx', 'title': '', 'contentType': 'x-gis/x-shapefile', 'contentEncoding': None, 'pathOnDisk': '__disk__51/0e/b0/510eb0bf7787bfbe8cad69a34bbcaf82b3344303', 'processed': False, 'processToken': None, 'imageWidth': None, 'imageHeight': None, 'size': 116, 'dateUploaded': '2019-07-10T22:07:34Z', 'uploadedBy': 'pbrown@usgs.gov', 'originalMetadata': False, 'useForPreview': False, 's3Object': None, 'checksum': None, 'url': 'https://www.sciencebase.gov/catalog/file/get/5ce5c305e4b0bc180232eb80?f=__disk__51%2F0e%2Fb0%2F510eb0bf7787bfbe8cad69a34bbcaf82b3344303', 'downloadUri': 'https://www.sciencebase.gov/catalog/file/get/5ce5c305e4b0bc180232eb80?f=__disk__51%2F0e%2Fb0%2F510eb0bf7787bfbe8cad69a34bbcaf82b3344303'}, {'name': 'USA_VillaGrove_CO_2011_HighResolutionAeromagneticSurveyFootprint.shp', 'title': '', 'contentType': 'x-gis/x-shapefile', 'contentEncoding': None, 'pathOnDisk': '__disk__cc/89/a6/cc89a604e9d98153a6d81fe192e8410eb9ebeaa4', 'processed': False, 'processToken': None, 'imageWidth': None, 'imageHeight': None, 'size': 1900, 'dateUploaded': '2019-07-10T22:07:34Z', 'uploadedBy': 'pbrown@usgs.gov', 'originalMetadata': False, 'useForPreview': False, 's3Object': None, 'checksum': None, 'url': 'https://www.sciencebase.gov/catalog/file/get/5ce5c305e4b0bc180232eb80?f=__disk__cc%2F89%2Fa6%2Fcc89a604e9d98153a6d81fe192e8410eb9ebeaa4', 'downloadUri': 'https://www.sciencebase.gov/catalog/file/get/5ce5c305e4b0bc180232eb80?f=__disk__cc%2F89%2Fa6%2Fcc89a604e9d98153a6d81fe192e8410eb9ebeaa4'}, {'name': 'USA_VillaGrove_CO_2011_HighResolutionAeromagneticSurveyFootprint.shx', 'title': '', 'contentType': 'x-gis/x-shapefile', 'contentEncoding': None, 'pathOnDisk': '__disk__f0/10/f4/f010f4ac8e2176cebef08ec0213dd053e52e63f9', 'processed': False, 'processToken': None, 'imageWidth': None, 'imageHeight': None, 'size': 108, 'dateUploaded': '2019-07-10T22:07:34Z', 'uploadedBy': 'pbrown@usgs.gov', 'originalMetadata': False, 'useForPreview': False, 's3Object': None, 'checksum': None, 'url': 'https://www.sciencebase.gov/catalog/file/get/5ce5c305e4b0bc180232eb80?f=__disk__f0%2F10%2Ff4%2Ff010f4ac8e2176cebef08ec0213dd053e52e63f9', 'downloadUri': 'https://www.sciencebase.gov/catalog/file/get/5ce5c305e4b0bc180232eb80?f=__disk__f0%2F10%2Ff4%2Ff010f4ac8e2176cebef08ec0213dd053e52e63f9'}], 'nativeCrs': '', 'geometryType': 'MultiPolygon', 'className': 'gov.sciencebase.catalog.item.facet.ShapefileFacet', 'facetName': 'Shapefile'}, {'boundingBox': {'minY': 37.79884920507155, 'minX': -106.23703359190635, 'maxY': 38.62170760507155, 'maxX': -105.54770299190635}, 'rasterType': 'GeoTIFF', 'name': 'HighResolutionAeromagnetic SurveyVillaGroveColoradoUSA2011GeoreferencedRasterNoShading', 'files': [{'name': 'HighResolutionAeromagnetic SurveyVillaGroveColoradoUSA2011GeoreferencedRasterNoShading.tif', 'title': '', 'contentType': 'image/geotiff', 'contentEncoding': None, 'pathOnDisk': '__disk__32/c8/37/32c83722b4f581fb462c8e67a41126ef4525d62e', 'processed': False, 'processToken': None, 'imageWidth': None, 'imageHeight': None, 'size': 15148408, 'dateUploaded': '2019-08-16T17:28:18Z', 'uploadedBy': 'pbrown@usgs.gov', 'originalMetadata': False, 'useForPreview': False, 's3Object': None, 'checksum': None, 'url': 'https://www.sciencebase.gov/catalog/file/get/5ce5c305e4b0bc180232eb80?f=__disk__32%2Fc8%2F37%2F32c83722b4f581fb462c8e67a41126ef4525d62e', 'downloadUri': 'https://www.sciencebase.gov/catalog/file/get/5ce5c305e4b0bc180232eb80?f=__disk__32%2Fc8%2F37%2F32c83722b4f581fb462c8e67a41126ef4525d62e'}], 'nativeCrs': 'EPSG:4326', 'className': 'gov.sciencebase.catalog.item.facet.RasterFacet', 'facetName': 'Raster'}, {'boundingBox': {'minY': 37.79884920507155, 'minX': -106.23703359190635, 'maxY': 38.62170760507155, 'maxX': -105.54770299190635}, 'rasterType': 'GeoTIFF', 'name': 'HighResolutionAeromagnetic SurveyVillaGroveColoradoUSA2011GeoreferencedRasterShaded', 'files': [{'name': 'HighResolutionAeromagnetic SurveyVillaGroveColoradoUSA2011GeoreferencedRasterShaded.tif', 'title': '', 'contentType': 'image/geotiff', 'contentEncoding': None, 'pathOnDisk': '__disk__cc/23/84/cc2384bf6db93ca6fea6fda8e2933c263dca2dcf', 'processed': False, 'processToken': None, 'imageWidth': None, 'imageHeight': None, 'size': 15189644, 'dateUploaded': '2019-08-16T17:32:06Z', 'uploadedBy': 'pbrown@usgs.gov', 'originalMetadata': False, 'useForPreview': False, 's3Object': None, 'checksum': None, 'url': 'https://www.sciencebase.gov/catalog/file/get/5ce5c305e4b0bc180232eb80?f=__disk__cc%2F23%2F84%2Fcc2384bf6db93ca6fea6fda8e2933c263dca2dcf', 'downloadUri': 'https://www.sciencebase.gov/catalog/file/get/5ce5c305e4b0bc180232eb80?f=__disk__cc%2F23%2F84%2Fcc2384bf6db93ca6fea6fda8e2933c263dca2dcf'}], 'nativeCrs': 'EPSG:4326', 'className': 'gov.sciencebase.catalog.item.facet.RasterFacet', 'facetName': 'Raster'}], 'files': [{'name': '11003_VillaGrove_DTM.gxf', 'title': '', 'contentType': 'application/gxf', 'contentEncoding': None, 'pathOnDisk': '__disk__bf/3f/a2/bf3fa20658347b2594804947752cb082d5ba6127', 'processed': False, 'processToken': None, 'imageWidth': None, 'imageHeight': None, 'size': 57432530, 'dateUploaded': '2019-05-31T20:26:37Z', 'uploadedBy': 'pbrown@usgs.gov', 'originalMetadata': False, 'useForPreview': False, 's3Object': None, 'checksum': None, 'url': 'https://www.sciencebase.gov/catalog/file/get/5ce5c305e4b0bc180232eb80?f=__disk__bf%2F3f%2Fa2%2Fbf3fa20658347b2594804947752cb082d5ba6127', 'downloadUri': 'https://www.sciencebase.gov/catalog/file/get/5ce5c305e4b0bc180232eb80?f=__disk__bf%2F3f%2Fa2%2Fbf3fa20658347b2594804947752cb082d5ba6127'}, {'name': '11003_VillaGrove_RadarAlt.gxf', 'title': '', 'contentType': 'application/gxf', 'contentEncoding': None, 'pathOnDisk': '__disk__0f/b7/b5/0fb7b50872b02ce90efb01241e58c929ca627d51', 'processed': False, 'processToken': None, 'imageWidth': None, 'imageHeight': None, 'size': 57438270, 'dateUploaded': '2019-05-31T20:26:51Z', 'uploadedBy': 'pbrown@usgs.gov', 'originalMetadata': False, 'useForPreview': False, 's3Object': None, 'checksum': None, 'url': 'https://www.sciencebase.gov/catalog/file/get/5ce5c305e4b0bc180232eb80?f=__disk__0f%2Fb7%2Fb5%2F0fb7b50872b02ce90efb01241e58c929ca627d51', 'downloadUri': 'https://www.sciencebase.gov/catalog/file/get/5ce5c305e4b0bc180232eb80?f=__disk__0f%2Fb7%2Fb5%2F0fb7b50872b02ce90efb01241e58c929ca627d51'}, {'name': '11003_VillaGrove_TMF.gxf', 'title': '', 'contentType': 'application/gxf', 'contentEncoding': None, 'pathOnDisk': '__disk__71/f7/7a/71f77ae129b7573318c8dc568a16b61b590c1aba', 'processed': False, 'processToken': None, 'imageWidth': None, 'imageHeight': None, 'size': 59586112, 'dateUploaded': '2019-05-31T20:27:33Z', 'uploadedBy': 'pbrown@usgs.gov', 'originalMetadata': False, 'useForPreview': False, 's3Object': None, 'checksum': None, 'url': 'https://www.sciencebase.gov/catalog/file/get/5ce5c305e4b0bc180232eb80?f=__disk__71%2Ff7%2F7a%2F71f77ae129b7573318c8dc568a16b61b590c1aba', 'downloadUri': 'https://www.sciencebase.gov/catalog/file/get/5ce5c305e4b0bc180232eb80?f=__disk__71%2Ff7%2F7a%2F71f77ae129b7573318c8dc568a16b61b590c1aba'}, {'name': '11003_VillaGrove_Final_Survey_Report.pdf', 'title': '', 'contentType': 'application/pdf', 'contentEncoding': None, 'pathOnDisk': '__disk__7b/47/ce/7b47ce39d470e3effe5ecf9a01665c2a1bda7c04', 'processed': False, 'processToken': None, 'imageWidth': None, 'imageHeight': None, 'size': 1378974, 'dateUploaded': '2019-05-31T20:24:01Z', 'uploadedBy': 'pbrown@usgs.gov', 'originalMetadata': False, 'useForPreview': False, 's3Object': None, 'checksum': None, 'url': 'https://www.sciencebase.gov/catalog/file/get/5ce5c305e4b0bc180232eb80?f=__disk__7b%2F47%2Fce%2F7b47ce39d470e3effe5ecf9a01665c2a1bda7c04', 'downloadUri': 'https://www.sciencebase.gov/catalog/file/get/5ce5c305e4b0bc180232eb80?f=__disk__7b%2F47%2Fce%2F7b47ce39d470e3effe5ecf9a01665c2a1bda7c04'}, {'name': 'HighResolutionAeromagneticSurveyVillaGroveColorado2011.csv', 'title': '', 'contentType': 'text/csv', 'contentEncoding': None, 'pathOnDisk': '__disk__65/7e/c5/657ec5b9a729d81e95e18c0befd015a09905a0d4', 'processed': False, 'processToken': None, 'imageWidth': None, 'imageHeight': None, 'size': 777430124, 'dateUploaded': '2019-07-09T21:03:22Z', 'uploadedBy': 'pbrown@usgs.gov', 'originalMetadata': False, 'useForPreview': False, 's3Object': None, 'checksum': None, 'url': 'https://www.sciencebase.gov/catalog/file/get/5ce5c305e4b0bc180232eb80?f=__disk__65%2F7e%2Fc5%2F657ec5b9a729d81e95e18c0befd015a09905a0d4', 'downloadUri': 'https://www.sciencebase.gov/catalog/file/get/5ce5c305e4b0bc180232eb80?f=__disk__65%2F7e%2Fc5%2F657ec5b9a729d81e95e18c0befd015a09905a0d4'}, {'name': 'HighResolutionAeromagneticSurveyVillaGroveColorado2011TotalMagneticFieldImage.jpg', 'title': '', 'contentType': 'image/jpeg', 'contentEncoding': None, 'pathOnDisk': '__disk__3e/2a/c5/3e2ac5b59f697644fe4bb6004afdb4040f4253a8', 'processed': False, 'processToken': None, 'imageWidth': 10835, 'imageHeight': 13212, 'size': 4133885, 'dateUploaded': '2019-07-10T22:12:13Z', 'uploadedBy': 'pbrown@usgs.gov', 'originalMetadata': False, 'useForPreview': False, 's3Object': None, 'checksum': None, 'url': 'https://www.sciencebase.gov/catalog/file/get/5ce5c305e4b0bc180232eb80?f=__disk__3e%2F2a%2Fc5%2F3e2ac5b59f697644fe4bb6004afdb4040f4253a8', 'downloadUri': 'https://www.sciencebase.gov/catalog/file/get/5ce5c305e4b0bc180232eb80?f=__disk__3e%2F2a%2Fc5%2F3e2ac5b59f697644fe4bb6004afdb4040f4253a8', 'viewUri': 'https://www.sciencebase.gov/catalog/file/get/5ce5c305e4b0bc180232eb80?f=__disk__3e%2F2a%2Fc5%2F3e2ac5b59f697644fe4bb6004afdb4040f4253a8&width=10835&height=13212', 'previewImage': {'thumbnail': {'uri': 'https://www.sciencebase.gov/catalog/file/get/5ce5c305e4b0bc180232eb80?f=__disk__3e%2F2a%2Fc5%2F3e2ac5b59f697644fe4bb6004afdb4040f4253a8&width=93&height=113', 'width': 93, 'height': 113}, 'small': {'uri': 'https://www.sciencebase.gov/catalog/file/get/5ce5c305e4b0bc180232eb80?f=__disk__3e%2F2a%2Fc5%2F3e2ac5b59f697644fe4bb6004afdb4040f4253a8&width=216&height=263', 'width': 216, 'height': 263}, 'medium': {'uri': 'https://www.sciencebase.gov/catalog/file/get/5ce5c305e4b0bc180232eb80?f=__disk__3e%2F2a%2Fc5%2F3e2ac5b59f697644fe4bb6004afdb4040f4253a8&width=357&height=435', 'width': 357, 'height': 435}, 'large': {'uri': 'https://www.sciencebase.gov/catalog/file/get/5ce5c305e4b0bc180232eb80?f=__disk__3e%2F2a%2Fc5%2F3e2ac5b59f697644fe4bb6004afdb4040f4253a8&width=615&height=750', 'width': 615, 'height': 750}}}, {'name': '11003_VillaGrove_Final_Data_ReadMe.pdf', 'title': '', 'contentType': 'application/pdf', 'contentEncoding': None, 'pathOnDisk': '__disk__20/51/e2/2051e2a4c1275875dff6ae963b4bfc62ec7441c6', 'processed': False, 'processToken': None, 'imageWidth': None, 'imageHeight': None, 'size': 108401, 'dateUploaded': '2019-07-10T22:39:12Z', 'uploadedBy': 'pbrown@usgs.gov', 'originalMetadata': False, 'useForPreview': False, 's3Object': None, 'checksum': None, 'url': 'https://www.sciencebase.gov/catalog/file/get/5ce5c305e4b0bc180232eb80?f=__disk__20%2F51%2Fe2%2F2051e2a4c1275875dff6ae963b4bfc62ec7441c6', 'downloadUri': 'https://www.sciencebase.gov/catalog/file/get/5ce5c305e4b0bc180232eb80?f=__disk__20%2F51%2Fe2%2F2051e2a4c1275875dff6ae963b4bfc62ec7441c6'}, {'name': 'HighResolutionAeromagnetic SurveyVillaGroveColoradoUSA2011GeoreferencedRasterTMIColorBar.png', 'title': '', 'contentType': 'image/png', 'contentEncoding': None, 'pathOnDisk': '__disk__58/66/39/586639abb27acea5d6fef7f14974af8a374c9e44', 'processed': False, 'processToken': None, 'imageWidth': 2481, 'imageHeight': 396, 'size': 12505, 'dateUploaded': '2019-08-10T22:00:58Z', 'uploadedBy': 'pbrown@usgs.gov', 'originalMetadata': False, 'useForPreview': False, 's3Object': None, 'checksum': None, 'url': 'https://www.sciencebase.gov/catalog/file/get/5ce5c305e4b0bc180232eb80?f=__disk__58%2F66%2F39%2F586639abb27acea5d6fef7f14974af8a374c9e44', 'downloadUri': 'https://www.sciencebase.gov/catalog/file/get/5ce5c305e4b0bc180232eb80?f=__disk__58%2F66%2F39%2F586639abb27acea5d6fef7f14974af8a374c9e44', 'viewUri': 'https://www.sciencebase.gov/catalog/file/get/5ce5c305e4b0bc180232eb80?f=__disk__58%2F66%2F39%2F586639abb27acea5d6fef7f14974af8a374c9e44&width=2481&height=396', 'previewImage': {'thumbnail': {'uri': 'https://www.sciencebase.gov/catalog/file/get/5ce5c305e4b0bc180232eb80?f=__disk__58%2F66%2F39%2F586639abb27acea5d6fef7f14974af8a374c9e44&width=150&height=24', 'width': 150, 'height': 24}, 'small': {'uri': 'https://www.sciencebase.gov/catalog/file/get/5ce5c305e4b0bc180232eb80?f=__disk__58%2F66%2F39%2F586639abb27acea5d6fef7f14974af8a374c9e44&width=350&height=56', 'width': 350, 'height': 56}, 'medium': {'uri': 'https://www.sciencebase.gov/catalog/file/get/5ce5c305e4b0bc180232eb80?f=__disk__58%2F66%2F39%2F586639abb27acea5d6fef7f14974af8a374c9e44&width=580&height=93', 'width': 580, 'height': 93}, 'large': {'uri': 'https://www.sciencebase.gov/catalog/file/get/5ce5c305e4b0bc180232eb80?f=__disk__58%2F66%2F39%2F586639abb27acea5d6fef7f14974af8a374c9e44&width=1000&height=160', 'width': 1000, 'height': 160}}}, {'name': 'HighResolutionAeromagneticSurveyVillaGroveColorado2011.xml', 'title': '', 'contentType': 'application/fgdc+xml', 'contentEncoding': None, 'pathOnDisk': '__disk__17/bf/64/17bf64985be16c7195ccc10e8dd129f8fd4d64e1', 'processed': False, 'processToken': None, 'imageWidth': None, 'imageHeight': None, 'size': 32190, 'dateUploaded': '2019-08-12T05:12:37Z', 'uploadedBy': 'pbrown@usgs.gov', 'originalMetadata': True, 'useForPreview': False, 's3Object': None, 'checksum': None, 'url': 'https://www.sciencebase.gov/catalog/file/get/5ce5c305e4b0bc180232eb80?f=__disk__17%2Fbf%2F64%2F17bf64985be16c7195ccc10e8dd129f8fd4d64e1', 'downloadUri': 'https://www.sciencebase.gov/catalog/file/get/5ce5c305e4b0bc180232eb80?f=__disk__17%2Fbf%2F64%2F17bf64985be16c7195ccc10e8dd129f8fd4d64e1', 'metadataHtmlViewUri': 'https://www.sciencebase.gov/catalog/file/get/5ce5c305e4b0bc180232eb80?f=__disk__17%2Fbf%2F64%2F17bf64985be16c7195ccc10e8dd129f8fd4d64e1&transform=1'}], 'distributionLinks': [{'uri': 'https://www.sciencebase.gov/catalogMaps/mapping/ows/5ce5c305e4b0bc180232eb80?mode=download&request=kml&service=wms&layers=USA_VillaGrove_CO_2011_HighResolutionAeromagneticSurveyFootprint%2CHighResolutionAeromagnetic+SurveyVillaGroveColoradoUSA2011GeoreferencedRasterShaded', 'title': 'KML Service', 'type': 'kml', 'typeLabel': '', 'rel': 'alternate', 'name': '', 'files': ''}, {'uri': 'https://www.sciencebase.gov/catalogMaps/mapping/ows/5ce5c305e4b0bc180232eb80?service=wms&request=getcapabilities&version=1.3.0', 'title': 'ScienceBase WMS Service', 'type': 'serviceCapabilitiesUrl', 'typeLabel': '', 'rel': 'alternate', 'name': '', 'files': ''}, {'uri': 'https://www.sciencebase.gov/catalogMaps/mapping/ows/5ce5c305e4b0bc180232eb80?service=wfs&request=getcapabilities&version=1.0.0', 'title': 'ScienceBase WFS Service', 'type': 'serviceCapabilitiesUrl', 'typeLabel': '', 'rel': 'alternate', 'name': '', 'files': ''}, {'uri': 'https://www.sciencebase.gov/catalogMaps/mapping/ows/5ce5c305e4b0bc180232eb80?service=wcs&request=getcapabilities&version=1.0.0', 'title': 'ScienceBase WCS Service', 'type': 'serviceCapabilitiesUrl', 'typeLabel': '', 'rel': 'alternate', 'name': '', 'files': ''}, {'uri': 'https://www.sciencebase.gov/catalog/file/get/5ce5c305e4b0bc180232eb80', 'title': 'Download Attached Files', 'type': 'downloadLink', 'typeLabel': 'Download Link', 'rel': 'alternate', 'name': 'HighResolutionA.zip', 'files': [{'name': 'USA_VillaGrove_CO_2011_HighResolutionAeromagneticSurveyFootprint/USA_VillaGrove_CO_2011_HighResolutionAeromagneticSurveyFootprint.dbf', 'title': '', 'contentType': 'application/unknown', 'size': 77}, {'name': 'USA_VillaGrove_CO_2011_HighResolutionAeromagneticSurveyFootprint/USA_VillaGrove_CO_2011_HighResolutionAeromagneticSurveyFootprint.prj', 'title': '', 'contentType': 'text/plain', 'size': 395}, {'name': 'USA_VillaGrove_CO_2011_HighResolutionAeromagneticSurveyFootprint/USA_VillaGrove_CO_2011_HighResolutionAeromagneticSurveyFootprint.sbn', 'title': '', 'contentType': 'x-gis/x-shapefile', 'size': 132}, {'name': 'USA_VillaGrove_CO_2011_HighResolutionAeromagneticSurveyFootprint/USA_VillaGrove_CO_2011_HighResolutionAeromagneticSurveyFootprint.sbx', 'title': '', 'contentType': 'x-gis/x-shapefile', 'size': 116}, {'name': 'USA_VillaGrove_CO_2011_HighResolutionAeromagneticSurveyFootprint/USA_VillaGrove_CO_2011_HighResolutionAeromagneticSurveyFootprint.shp', 'title': '', 'contentType': 'x-gis/x-shapefile', 'size': 1900}, {'name': 'USA_VillaGrove_CO_2011_HighResolutionAeromagneticSurveyFootprint/USA_VillaGrove_CO_2011_HighResolutionAeromagneticSurveyFootprint.shx', 'title': '', 'contentType': 'x-gis/x-shapefile', 'size': 108}, {'name': 'HighResolutionAeromagnetic SurveyVillaGroveColoradoUSA2011GeoreferencedRasterNoShading/HighResolutionAeromagnetic SurveyVillaGroveColoradoUSA2011GeoreferencedRasterNoShading.tif', 'title': '', 'contentType': 'image/geotiff', 'size': 15148408}, {'name': 'HighResolutionAeromagnetic SurveyVillaGroveColoradoUSA2011GeoreferencedRasterShaded/HighResolutionAeromagnetic SurveyVillaGroveColoradoUSA2011GeoreferencedRasterShaded.tif', 'title': '', 'contentType': 'image/geotiff', 'size': 15189644}, {'name': '11003_VillaGrove_DTM.gxf', 'title': '', 'contentType': 'application/gxf', 'size': 57432530}, {'name': '11003_VillaGrove_RadarAlt.gxf', 'title': '', 'contentType': 'application/gxf', 'size': 57438270}, {'name': '11003_VillaGrove_TMF.gxf', 'title': '', 'contentType': 'application/gxf', 'size': 59586112}, {'name': '11003_VillaGrove_Final_Survey_Report.pdf', 'title': '', 'contentType': 'application/pdf', 'size': 1378974}, {'name': 'HighResolutionAeromagneticSurveyVillaGroveColorado2011.csv', 'title': '', 'contentType': 'text/csv', 'size': 777430124}, {'name': 'HighResolutionAeromagneticSurveyVillaGroveColorado2011TotalMagneticFieldImage.jpg', 'title': '', 'contentType': 'image/jpeg', 'size': 4133885}, {'name': '11003_VillaGrove_Final_Data_ReadMe.pdf', 'title': '', 'contentType': 'application/pdf', 'size': 108401}, {'name': 'HighResolutionAeromagnetic SurveyVillaGroveColoradoUSA2011GeoreferencedRasterTMIColorBar.png', 'title': '', 'contentType': 'image/png', 'size': 12505}, {'name': 'HighResolutionAeromagneticSurveyVillaGroveColorado2011.xml', 'title': '', 'contentType': 'application/fgdc+xml', 'size': 32190}]}], 'previewImage': {'from': 'attachedFile', 'original': {'uri': 'https://www.sciencebase.gov/catalog/file/get/5ce5c305e4b0bc180232eb80?f=__disk__3e%2F2a%2Fc5%2F3e2ac5b59f697644fe4bb6004afdb4040f4253a8', 'viewUri': 'https://www.sciencebase.gov/catalog/file/get/5ce5c305e4b0bc180232eb80?f=__disk__3e%2F2a%2Fc5%2F3e2ac5b59f697644fe4bb6004afdb4040f4253a8&width=10835&height=13212', 'viewUrl': 'https://www.sciencebase.gov/catalog/file/get/5ce5c305e4b0bc180232eb80?deprecated=__use__viewUri__instead__&f=__disk__3e%2F2a%2Fc5%2F3e2ac5b59f697644fe4bb6004afdb4040f4253a8&width=10835&height=13212', 'width': 10835, 'height': 13212, 'size': 4133885}, 'thumbnail': {'uri': 'https://www.sciencebase.gov/catalog/file/get/5ce5c305e4b0bc180232eb80?f=__disk__3e%2F2a%2Fc5%2F3e2ac5b59f697644fe4bb6004afdb4040f4253a8&width=93&height=113', 'width': 93, 'height': 113}, 'small': {'uri': 'https://www.sciencebase.gov/catalog/file/get/5ce5c305e4b0bc180232eb80?f=__disk__3e%2F2a%2Fc5%2F3e2ac5b59f697644fe4bb6004afdb4040f4253a8&width=216&height=263', 'width': 216, 'height': 263}, 'medium': {'uri': 'https://www.sciencebase.gov/catalog/file/get/5ce5c305e4b0bc180232eb80?f=__disk__3e%2F2a%2Fc5%2F3e2ac5b59f697644fe4bb6004afdb4040f4253a8&width=357&height=435', 'width': 357, 'height': 435}, 'large': {'uri': 'https://www.sciencebase.gov/catalog/file/get/5ce5c305e4b0bc180232eb80?f=__disk__3e%2F2a%2Fc5%2F3e2ac5b59f697644fe4bb6004afdb4040f4253a8&width=615&height=750', 'width': 615, 'height': 750}, 'alternateImages': [{'from': 'mapPreview', 'original': {'uri': 'https://www.sciencebase.gov/catalog/file/get/5ce5c305e4b0bc180232eb80?f=__disk__90%2Faf%2F2b%2F90af2bbf72d7ff6c0c20a946eb781fa7ad7351f2', 'viewUri': 'https://www.sciencebase.gov/catalog/file/get/5ce5c305e4b0bc180232eb80?f=__disk__90%2Faf%2F2b%2F90af2bbf72d7ff6c0c20a946eb781fa7ad7351f2&width=360&height=240', 'viewUrl': 'https://www.sciencebase.gov/catalog/file/get/5ce5c305e4b0bc180232eb80?deprecated=__use__viewUri__instead__&f=__disk__90%2Faf%2F2b%2F90af2bbf72d7ff6c0c20a946eb781fa7ad7351f2&width=360&height=240', 'width': 360, 'height': 240, 'size': 153454}, 'thumbnail': {'uri': 'https://www.sciencebase.gov/catalog/file/get/5ce5c305e4b0bc180232eb80?f=__disk__90%2Faf%2F2b%2F90af2bbf72d7ff6c0c20a946eb781fa7ad7351f2&width=150&height=100', 'width': 150, 'height': 100}}]}}\n"
     ]
    }
   ],
   "source": [
    "# Get a private item.  Need to log in first.\n",
    "# Current private AMT data release Silverton: 5c5c72b9e4b070828902cb07\n",
    "item_json = sb.get_item('5ce5c305e4b0bc180232eb80')\n",
    "print (\"Public Item: \\t\" + str(item_json))"
   ]
  },
  {
   "cell_type": "code",
   "execution_count": 14,
   "metadata": {},
   "outputs": [
    {
     "name": "stdout",
     "output_type": "stream",
     "text": [
      "\tMy Items: \n",
      "\n",
      "{'link': {'rel': 'self', 'url': 'https://www.sciencebase.gov/catalog/item/5ad0e39de4b0e2c2dd1eb0dd'}, 'relatedItems': {'link': {'url': 'https://www.sciencebase.gov/catalog/itemLinks?itemId=5ad0e39de4b0e2c2dd1eb0dd', 'rel': 'related'}}, 'id': '5ad0e39de4b0e2c2dd1eb0dd', 'title': 'pbrown@usgs.gov', 'provenance': {'dateCreated': '2018-04-13T17:06:37Z', 'lastUpdated': '2019-05-22T21:45:42Z', 'lastUpdatedBy': 'pbrown@usgs.gov', 'createdBy': 'pbrown@usgs.gov'}, 'hasChildren': True, 'parentId': '4f4e4772e4b07f02db47e231', 'contacts': [{'name': 'Philip J Brown II', 'oldPartyId': 1233, 'type': 'Author', 'contactType': 'person', 'email': 'pbrown@usgs.gov', 'active': True, 'primaryLocation': {'name': 'Philip J Brown II/GD/USGS/DOI - Primary Location', 'building': 'DFC Bldg 20', 'buildingCode': 'KAC', 'officePhone': '303-236-1310', 'faxPhone': '303-236-1425', 'streetAddress': {'line1': 'W 6th Ave Kipling St', 'city': 'Lakewood', 'state': 'CO', 'zip': '80225'}, 'mailAddress': {'line1': 'Box 25046, Denver Federal Center, Mail Stop 964', 'mailStopCode': '964', 'city': 'Denver', 'state': 'CO', 'zip': '80225-0046', 'country': 'USA'}}, 'orcId': '0000-0002-2415-7462'}], 'systemTypes': ['Folder'], 'permissions': {'read': {'acl': ['USER:pbrown@usgs.gov'], 'inherited': False}, 'write': {'acl': ['USER:pbrown@usgs.gov'], 'inherited': False}}, 'distributionLinks': [{'uri': 'https://www.sciencebase.gov/catalogMaps/mapping/ows/5ad0e39de4b0e2c2dd1eb0dd?mode=download&request=kml&service=wms&layers=childrenBoundingBox,children', 'title': 'KML Service', 'type': 'kml', 'typeLabel': '', 'rel': 'alternate', 'name': '', 'files': ''}, {'uri': 'https://www.sciencebase.gov/catalogMaps/mapping/ows/5ad0e39de4b0e2c2dd1eb0dd?service=wms&request=getcapabilities&version=1.3.0', 'title': 'ScienceBase WMS Service', 'type': 'serviceCapabilitiesUrl', 'typeLabel': '', 'rel': 'alternate', 'name': '', 'files': ''}, {'uri': 'https://www.sciencebase.gov/catalog/items?parentId=5ad0e39de4b0e2c2dd1eb0dd&format=json', 'title': 'ScienceBase Collection JSON', 'type': 'repo', 'typeLabel': '', 'rel': 'alternate', 'name': '', 'files': ''}, {'uri': 'https://www.sciencebase.gov/catalog/items?parentId=5ad0e39de4b0e2c2dd1eb0dd&format=atom', 'title': 'ScienceBase Collection ATOM', 'type': 'repo', 'typeLabel': '', 'rel': 'alternate', 'name': '', 'files': ''}, {'uri': 'https://www.sciencebase.gov/catalog/items?parentId=5ad0e39de4b0e2c2dd1eb0dd&format=csv', 'title': 'ScienceBase Collection CSV', 'type': 'repo', 'typeLabel': '', 'rel': 'alternate', 'name': '', 'files': ''}, {'uri': 'https://www.sciencebase.gov/catalog/oai-pmh?verb=ListRecords&metadataPrefix=fgdc-orig&set=5ad0e39de4b0e2c2dd1eb0dd', 'title': 'ScienceBase OAI PMH Service', 'type': 'oai-pmh', 'typeLabel': '', 'rel': 'alternate', 'name': '', 'files': ''}, {'uri': 'https://www.sciencebase.gov/catalog/item/5ad0e39de4b0e2c2dd1eb0dd/csw?service=CSW&version=2.0.2&request=GetRecords', 'title': 'ScienceBase CSW Service', 'type': 'csw', 'typeLabel': '', 'rel': 'alternate', 'name': '', 'files': ''}], 'locked': False}\n"
     ]
    }
   ],
   "source": [
    "\n",
    "item_json = sb.get_item(sb.get_my_items_id())\n",
    "print(\"\\tMy Items: \\n\\n\" + str(item_json))\n",
    "#lets create a dictionary from the JSON file and list the items only\n"
   ]
  },
  {
   "cell_type": "markdown",
   "metadata": {},
   "source": [
    "Need to work on a better way to parse and create or update these json files"
   ]
  },
  {
   "cell_type": "code",
   "execution_count": 34,
   "metadata": {},
   "outputs": [
    {
     "ename": "SyntaxError",
     "evalue": "EOL while scanning string literal (<ipython-input-34-dea1f8f03f76>, line 6)",
     "output_type": "error",
     "traceback": [
      "\u001b[1;36m  File \u001b[1;32m\"<ipython-input-34-dea1f8f03f76>\"\u001b[1;36m, line \u001b[1;32m6\u001b[0m\n\u001b[1;33m    print(\"File \" + item_json[\"link\"] + \", \" + str(item_json[\"files]))\u001b[0m\n\u001b[1;37m                                                                      ^\u001b[0m\n\u001b[1;31mSyntaxError\u001b[0m\u001b[1;31m:\u001b[0m EOL while scanning string literal\n"
     ]
    }
   ],
   "source": [
    "#Try reading json dictionary\n",
    "item_json['link']\n",
    "#print(\"Title(s):\\n \" + str(item_json['link'])\n",
    "\n"
   ]
  },
  {
   "cell_type": "code",
   "execution_count": 27,
   "metadata": {},
   "outputs": [
    {
     "ename": "ValueError",
     "evalue": "Expected object or value",
     "output_type": "error",
     "traceback": [
      "\u001b[1;31m---------------------------------------------------------------------------\u001b[0m",
      "\u001b[1;31mValueError\u001b[0m                                Traceback (most recent call last)",
      "\u001b[1;32m<ipython-input-27-3f8480af1b6e>\u001b[0m in \u001b[0;36m<module>\u001b[1;34m()\u001b[0m\n\u001b[0;32m      2\u001b[0m \u001b[1;32mimport\u001b[0m \u001b[0mpandas\u001b[0m \u001b[1;32mas\u001b[0m \u001b[0mpd\u001b[0m\u001b[1;33m\u001b[0m\u001b[0m\n\u001b[0;32m      3\u001b[0m \u001b[1;31m#pd.read_json (r'Path where you saved the JSON file\\File Name.json')\u001b[0m\u001b[1;33m\u001b[0m\u001b[1;33m\u001b[0m\u001b[0m\n\u001b[1;32m----> 4\u001b[1;33m \u001b[0mdf\u001b[0m \u001b[1;33m=\u001b[0m \u001b[0mpd\u001b[0m\u001b[1;33m.\u001b[0m\u001b[0mread_json\u001b[0m \u001b[1;33m(\u001b[0m\u001b[1;34mr\"C:\\SB_Batch\\jsontest.json\"\u001b[0m\u001b[1;33m)\u001b[0m\u001b[1;33m\u001b[0m\u001b[0m\n\u001b[0m\u001b[0;32m      5\u001b[0m \u001b[1;31m#print (df)\u001b[0m\u001b[1;33m\u001b[0m\u001b[1;33m\u001b[0m\u001b[0m\n",
      "\u001b[1;32m~\\AppData\\Local\\Continuum\\anaconda_3\\lib\\site-packages\\pandas\\io\\json\\json.py\u001b[0m in \u001b[0;36mread_json\u001b[1;34m(path_or_buf, orient, typ, dtype, convert_axes, convert_dates, keep_default_dates, numpy, precise_float, date_unit, encoding, lines, chunksize, compression)\u001b[0m\n\u001b[0;32m    364\u001b[0m         \u001b[1;32mreturn\u001b[0m \u001b[0mjson_reader\u001b[0m\u001b[1;33m\u001b[0m\u001b[0m\n\u001b[0;32m    365\u001b[0m \u001b[1;33m\u001b[0m\u001b[0m\n\u001b[1;32m--> 366\u001b[1;33m     \u001b[1;32mreturn\u001b[0m \u001b[0mjson_reader\u001b[0m\u001b[1;33m.\u001b[0m\u001b[0mread\u001b[0m\u001b[1;33m(\u001b[0m\u001b[1;33m)\u001b[0m\u001b[1;33m\u001b[0m\u001b[0m\n\u001b[0m\u001b[0;32m    367\u001b[0m \u001b[1;33m\u001b[0m\u001b[0m\n\u001b[0;32m    368\u001b[0m \u001b[1;33m\u001b[0m\u001b[0m\n",
      "\u001b[1;32m~\\AppData\\Local\\Continuum\\anaconda_3\\lib\\site-packages\\pandas\\io\\json\\json.py\u001b[0m in \u001b[0;36mread\u001b[1;34m(self)\u001b[0m\n\u001b[0;32m    465\u001b[0m             )\n\u001b[0;32m    466\u001b[0m         \u001b[1;32melse\u001b[0m\u001b[1;33m:\u001b[0m\u001b[1;33m\u001b[0m\u001b[0m\n\u001b[1;32m--> 467\u001b[1;33m             \u001b[0mobj\u001b[0m \u001b[1;33m=\u001b[0m \u001b[0mself\u001b[0m\u001b[1;33m.\u001b[0m\u001b[0m_get_object_parser\u001b[0m\u001b[1;33m(\u001b[0m\u001b[0mself\u001b[0m\u001b[1;33m.\u001b[0m\u001b[0mdata\u001b[0m\u001b[1;33m)\u001b[0m\u001b[1;33m\u001b[0m\u001b[0m\n\u001b[0m\u001b[0;32m    468\u001b[0m         \u001b[0mself\u001b[0m\u001b[1;33m.\u001b[0m\u001b[0mclose\u001b[0m\u001b[1;33m(\u001b[0m\u001b[1;33m)\u001b[0m\u001b[1;33m\u001b[0m\u001b[0m\n\u001b[0;32m    469\u001b[0m         \u001b[1;32mreturn\u001b[0m \u001b[0mobj\u001b[0m\u001b[1;33m\u001b[0m\u001b[0m\n",
      "\u001b[1;32m~\\AppData\\Local\\Continuum\\anaconda_3\\lib\\site-packages\\pandas\\io\\json\\json.py\u001b[0m in \u001b[0;36m_get_object_parser\u001b[1;34m(self, json)\u001b[0m\n\u001b[0;32m    482\u001b[0m         \u001b[0mobj\u001b[0m \u001b[1;33m=\u001b[0m \u001b[1;32mNone\u001b[0m\u001b[1;33m\u001b[0m\u001b[0m\n\u001b[0;32m    483\u001b[0m         \u001b[1;32mif\u001b[0m \u001b[0mtyp\u001b[0m \u001b[1;33m==\u001b[0m \u001b[1;34m'frame'\u001b[0m\u001b[1;33m:\u001b[0m\u001b[1;33m\u001b[0m\u001b[0m\n\u001b[1;32m--> 484\u001b[1;33m             \u001b[0mobj\u001b[0m \u001b[1;33m=\u001b[0m \u001b[0mFrameParser\u001b[0m\u001b[1;33m(\u001b[0m\u001b[0mjson\u001b[0m\u001b[1;33m,\u001b[0m \u001b[1;33m**\u001b[0m\u001b[0mkwargs\u001b[0m\u001b[1;33m)\u001b[0m\u001b[1;33m.\u001b[0m\u001b[0mparse\u001b[0m\u001b[1;33m(\u001b[0m\u001b[1;33m)\u001b[0m\u001b[1;33m\u001b[0m\u001b[0m\n\u001b[0m\u001b[0;32m    485\u001b[0m \u001b[1;33m\u001b[0m\u001b[0m\n\u001b[0;32m    486\u001b[0m         \u001b[1;32mif\u001b[0m \u001b[0mtyp\u001b[0m \u001b[1;33m==\u001b[0m \u001b[1;34m'series'\u001b[0m \u001b[1;32mor\u001b[0m \u001b[0mobj\u001b[0m \u001b[1;32mis\u001b[0m \u001b[1;32mNone\u001b[0m\u001b[1;33m:\u001b[0m\u001b[1;33m\u001b[0m\u001b[0m\n",
      "\u001b[1;32m~\\AppData\\Local\\Continuum\\anaconda_3\\lib\\site-packages\\pandas\\io\\json\\json.py\u001b[0m in \u001b[0;36mparse\u001b[1;34m(self)\u001b[0m\n\u001b[0;32m    574\u001b[0m \u001b[1;33m\u001b[0m\u001b[0m\n\u001b[0;32m    575\u001b[0m         \u001b[1;32melse\u001b[0m\u001b[1;33m:\u001b[0m\u001b[1;33m\u001b[0m\u001b[0m\n\u001b[1;32m--> 576\u001b[1;33m             \u001b[0mself\u001b[0m\u001b[1;33m.\u001b[0m\u001b[0m_parse_no_numpy\u001b[0m\u001b[1;33m(\u001b[0m\u001b[1;33m)\u001b[0m\u001b[1;33m\u001b[0m\u001b[0m\n\u001b[0m\u001b[0;32m    577\u001b[0m \u001b[1;33m\u001b[0m\u001b[0m\n\u001b[0;32m    578\u001b[0m         \u001b[1;32mif\u001b[0m \u001b[0mself\u001b[0m\u001b[1;33m.\u001b[0m\u001b[0mobj\u001b[0m \u001b[1;32mis\u001b[0m \u001b[1;32mNone\u001b[0m\u001b[1;33m:\u001b[0m\u001b[1;33m\u001b[0m\u001b[0m\n",
      "\u001b[1;32m~\\AppData\\Local\\Continuum\\anaconda_3\\lib\\site-packages\\pandas\\io\\json\\json.py\u001b[0m in \u001b[0;36m_parse_no_numpy\u001b[1;34m(self)\u001b[0m\n\u001b[0;32m    791\u001b[0m         \u001b[1;32mif\u001b[0m \u001b[0morient\u001b[0m \u001b[1;33m==\u001b[0m \u001b[1;34m\"columns\"\u001b[0m\u001b[1;33m:\u001b[0m\u001b[1;33m\u001b[0m\u001b[0m\n\u001b[0;32m    792\u001b[0m             self.obj = DataFrame(\n\u001b[1;32m--> 793\u001b[1;33m                 loads(json, precise_float=self.precise_float), dtype=None)\n\u001b[0m\u001b[0;32m    794\u001b[0m         \u001b[1;32melif\u001b[0m \u001b[0morient\u001b[0m \u001b[1;33m==\u001b[0m \u001b[1;34m\"split\"\u001b[0m\u001b[1;33m:\u001b[0m\u001b[1;33m\u001b[0m\u001b[0m\n\u001b[0;32m    795\u001b[0m             decoded = dict((str(k), v)\n",
      "\u001b[1;31mValueError\u001b[0m: Expected object or value"
     ]
    }
   ],
   "source": [
    "Really need to figure out the best way to parse out the SB json\n",
    "# https://datatofish.com/load-json-pandas-dataframe/\n",
    "import pandas as pd\n",
    "#pd.read_json (r'Path where you saved the JSON file\\File Name.json')\n",
    "df = pd.read_json (r\"C:\\SB_Batch\\jsontest.json\")\n",
    "#print (df)"
   ]
  },
  {
   "cell_type": "markdown",
   "metadata": {},
   "source": [
    "## Lets try to create a SB object without having to load a JSON or XML file"
   ]
  },
  {
   "cell_type": "code",
   "execution_count": 30,
   "metadata": {},
   "outputs": [
    {
     "name": "stdout",
     "output_type": "stream",
     "text": [
      "NEW ITEM: {'link': {'rel': 'self', 'url': 'https://www.sciencebase.gov/catalog/item/5d93d633e4b0c4f70d0d76d5'}, 'relatedItems': {'link': {'url': 'https://www.sciencebase.gov/catalog/itemLinks?itemId=5d93d633e4b0c4f70d0d76d5', 'rel': 'related'}}, 'id': '5d93d633e4b0c4f70d0d76d5', 'title': 'This is a new pbrown test item', 'provenance': {'annotation': 'Python ScienceBase REST test script', 'dateCreated': '2019-10-01T22:41:55Z', 'lastUpdated': '2019-10-01T22:41:55Z', 'lastUpdatedBy': 'pbrown@usgs.gov', 'createdBy': 'pbrown@usgs.gov'}, 'hasChildren': False, 'parentId': '5ad0e39de4b0e2c2dd1eb0dd', 'permissions': {'read': {'acl': ['USER:pbrown@usgs.gov'], 'inherited': True, 'inheritsFromId': '5ad0e39de4b0e2c2dd1eb0dd'}, 'write': {'acl': ['USER:pbrown@usgs.gov'], 'inherited': True, 'inheritsFromId': '5ad0e39de4b0e2c2dd1eb0dd'}}, 'distributionLinks': [], 'locked': False}\n"
     ]
    }
   ],
   "source": [
    "# Create a new item.  The minimum required is a title for the new item, and the parent ID\n",
    "new_item = {'title': 'This is a new pbrown test item',\n",
    "    'parentId': sb.get_my_items_id(),\n",
    "    'provenance': {'annotation': 'Python ScienceBase REST test script'}}\n",
    "new_item = sb.create_item(new_item)\n",
    "print (\"NEW ITEM: \" + str(new_item))"
   ]
  },
  {
   "cell_type": "code",
   "execution_count": 40,
   "metadata": {},
   "outputs": [
    {
     "name": "stdout",
     "output_type": "stream",
     "text": [
      "FILE UPDATE: {'link': {'rel': 'self', 'url': 'https://www.sciencebase.gov/catalog/item/5d93d82fe4b0c4f70d0d76df'}, 'relatedItems': {'link': {'url': 'https://www.sciencebase.gov/catalog/itemLinks?itemId=5d93d82fe4b0c4f70d0d76df', 'rel': 'related'}}, 'id': '5d93d82fe4b0c4f70d0d76df', 'title': 'This is a new pbrown test item', 'provenance': {'annotation': 'Python ScienceBase REST test script', 'dateCreated': '2019-10-01T22:50:23Z', 'lastUpdated': '2019-10-01T22:50:23Z', 'lastUpdatedBy': 'pbrown@usgs.gov', 'createdBy': 'pbrown@usgs.gov'}, 'hasChildren': False, 'parentId': '5ad0e39de4b0e2c2dd1eb0dd', 'files': [{'name': 'jsontest.json', 'title': None, 'contentType': 'application/json', 'contentEncoding': None, 'pathOnDisk': '__disk__7c/1b/f9/7c1bf97a177b057d3842735c5df81ed0f8a497c8', 'processed': None, 'processToken': None, 'imageWidth': None, 'imageHeight': None, 'size': 4293, 'dateUploaded': '2019-10-01T22:45:16Z', 'uploadedBy': 'pbrown@usgs.gov', 'originalMetadata': None, 'useForPreview': None, 's3Object': None, 'checksum': None, 'url': 'https://www.sciencebase.gov/catalog/file/get/5d93d82fe4b0c4f70d0d76df?f=__disk__7c%2F1b%2Ff9%2F7c1bf97a177b057d3842735c5df81ed0f8a497c8', 'downloadUri': 'https://www.sciencebase.gov/catalog/file/get/5d93d82fe4b0c4f70d0d76df?f=__disk__7c%2F1b%2Ff9%2F7c1bf97a177b057d3842735c5df81ed0f8a497c8'}], 'permissions': {'read': {'acl': ['USER:pbrown@usgs.gov'], 'inherited': True, 'inheritsFromId': '5ad0e39de4b0e2c2dd1eb0dd'}, 'write': {'acl': ['USER:pbrown@usgs.gov'], 'inherited': True, 'inheritsFromId': '5ad0e39de4b0e2c2dd1eb0dd'}}, 'distributionLinks': [{'uri': 'https://www.sciencebase.gov/catalog/file/get/5d93d82fe4b0c4f70d0d76df', 'title': 'Download Attached Files', 'type': 'downloadLink', 'typeLabel': 'Download Link', 'rel': 'alternate', 'name': 'Thisisanewpbrow.zip', 'files': [{'name': 'jsontest.json', 'title': None, 'contentType': 'application/json', 'size': 4293}]}], 'locked': False}\n"
     ]
    }
   ],
   "source": [
    "# Upload a file to the newly created item\n",
    "new_item = sb.upload_file_to_item(new_item, r\"C:\\SB_Batch\\jsontest.json\")\n",
    "print (\"FILE UPDATE: \" + str(new_item))"
   ]
  },
  {
   "cell_type": "code",
   "execution_count": 41,
   "metadata": {},
   "outputs": [
    {
     "name": "stdout",
     "output_type": "stream",
     "text": [
      "DELETE: True\n",
      "FILE UPDATE: {'link': {'rel': 'self', 'url': 'https://www.sciencebase.gov/catalog/item/5d93d82fe4b0c4f70d0d76df'}, 'relatedItems': {'link': {'url': 'https://www.sciencebase.gov/catalog/itemLinks?itemId=5d93d82fe4b0c4f70d0d76df', 'rel': 'related'}}, 'id': '5d93d82fe4b0c4f70d0d76df', 'title': 'This is a new pbrown test item', 'provenance': {'annotation': 'Python ScienceBase REST test script', 'dateCreated': '2019-10-01T22:50:23Z', 'lastUpdated': '2019-10-01T22:50:23Z', 'lastUpdatedBy': 'pbrown@usgs.gov', 'createdBy': 'pbrown@usgs.gov'}, 'hasChildren': False, 'parentId': '5ad0e39de4b0e2c2dd1eb0dd', 'files': [{'name': 'jsontest.json', 'title': None, 'contentType': 'application/json', 'contentEncoding': None, 'pathOnDisk': '__disk__7c/1b/f9/7c1bf97a177b057d3842735c5df81ed0f8a497c8', 'processed': None, 'processToken': None, 'imageWidth': None, 'imageHeight': None, 'size': 4293, 'dateUploaded': '2019-10-01T22:45:16Z', 'uploadedBy': 'pbrown@usgs.gov', 'originalMetadata': None, 'useForPreview': None, 's3Object': None, 'checksum': None, 'url': 'https://www.sciencebase.gov/catalog/file/get/5d93d82fe4b0c4f70d0d76df?f=__disk__7c%2F1b%2Ff9%2F7c1bf97a177b057d3842735c5df81ed0f8a497c8', 'downloadUri': 'https://www.sciencebase.gov/catalog/file/get/5d93d82fe4b0c4f70d0d76df?f=__disk__7c%2F1b%2Ff9%2F7c1bf97a177b057d3842735c5df81ed0f8a497c8'}], 'permissions': {'read': {'acl': ['USER:pbrown@usgs.gov'], 'inherited': True, 'inheritsFromId': '5ad0e39de4b0e2c2dd1eb0dd'}, 'write': {'acl': ['USER:pbrown@usgs.gov'], 'inherited': True, 'inheritsFromId': '5ad0e39de4b0e2c2dd1eb0dd'}}, 'distributionLinks': [{'uri': 'https://www.sciencebase.gov/catalog/file/get/5d93d82fe4b0c4f70d0d76df', 'title': 'Download Attached Files', 'type': 'downloadLink', 'typeLabel': 'Download Link', 'rel': 'alternate', 'name': 'Thisisanewpbrow.zip', 'files': [{'name': 'jsontest.json', 'title': None, 'contentType': 'application/json', 'size': 4293}]}], 'locked': False}\n"
     ]
    }
   ],
   "source": [
    "# Delete the newly created item\n",
    "ret = sb.delete_item(new_item)\n",
    "print (\"DELETE: \" + str(ret))\n",
    "print (\"FILE UPDATE: \" + str(new_item))"
   ]
  },
  {
   "cell_type": "code",
   "execution_count": null,
   "metadata": {},
   "outputs": [],
   "source": [
    "# Upload multiple files to create a new item\n",
    "# Seems looping through a file array using the above may be the best for a batch file upload.\n",
    "    ret = sb.upload_files_and_create_item(sb.get_my_items_id(), ['sciencebasepy.py','readme.md'])\n",
    "    print str(ret)"
   ]
  },
  {
   "cell_type": "code",
   "execution_count": 42,
   "metadata": {
    "scrolled": true
   },
   "outputs": [
    {
     "name": "stdout",
     "output_type": "stream",
     "text": [
      "File jsontest.json, 4293bytes, download URL https://www.sciencebase.gov/catalog/file/get/5d93d82fe4b0c4f70d0d76df?f=__disk__7c%2F1b%2Ff9%2F7c1bf97a177b057d3842735c5df81ed0f8a497c8\n"
     ]
    }
   ],
   "source": [
    "# List file info from the newly created item\n",
    "ret = sb.get_item_file_info(new_item)\n",
    "for fileinfo in ret:\n",
    "    print (\"File \" + fileinfo[\"name\"] + \", \" + str(fileinfo[\"size\"]) + \"bytes, download URL \" + fileinfo[\"url\"])"
   ]
  },
  {
   "cell_type": "markdown",
   "metadata": {},
   "source": [
    "## Lets list and search my ScienceBase items"
   ]
  },
  {
   "cell_type": "code",
   "execution_count": null,
   "metadata": {},
   "outputs": [],
   "source": [
    "# Search\n",
    "items = sb.find_items_by_any_text(username)\n",
    "while items and 'items' in items:\n",
    "    for item in items['items']:\n",
    "        print (item['title'])\n",
    "    items = sb.next(items)"
   ]
  },
  {
   "cell_type": "markdown",
   "metadata": {},
   "source": [
    "# -----------------------------------------------------------------------------------------------------------"
   ]
  },
  {
   "cell_type": "markdown",
   "metadata": {},
   "source": [
    "## Logout of ScienceBase"
   ]
  },
  {
   "cell_type": "code",
   "execution_count": 46,
   "metadata": {},
   "outputs": [
    {
     "name": "stdout",
     "output_type": "stream",
     "text": [
      "Current login status is False\n"
     ]
    }
   ],
   "source": [
    "\n",
    "# Logout\n",
    "sb.logout()\n",
    "#Check to see if logout is successful\n",
    "status = sb.is_logged_in()\n",
    "print('Current login status is ' + str(status))"
   ]
  }
 ],
 "metadata": {
  "kernelspec": {
   "display_name": "Python 3",
   "language": "python",
   "name": "python3"
  },
  "language_info": {
   "codemirror_mode": {
    "name": "ipython",
    "version": 3
   },
   "file_extension": ".py",
   "mimetype": "text/x-python",
   "name": "python",
   "nbconvert_exporter": "python",
   "pygments_lexer": "ipython3",
   "version": "3.6.4"
  }
 },
 "nbformat": 4,
 "nbformat_minor": 2
}
